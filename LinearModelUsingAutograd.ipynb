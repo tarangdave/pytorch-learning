{
 "cells": [
  {
   "cell_type": "code",
   "execution_count": 1,
   "metadata": {},
   "outputs": [],
   "source": [
    "import numpy as np\n",
    "import matplotlib.pyplot as plt"
   ]
  },
  {
   "cell_type": "code",
   "execution_count": 2,
   "metadata": {},
   "outputs": [],
   "source": [
    "x_train = np.array([[3.3],[4.4],[5.5],[6.71],[6.93],[4.168],[9.779],\n",
    "                   [6.182],[7.59],[2.167],[7.042],[10.791],[5.313],\n",
    "                   [7.997],[3.1]], dtype = np.float32)\n",
    "\n",
    "y_train = np.array([[1.7],[2.76],[2.09],[3.19],[1.694],[1.573],[3.366],\n",
    "                   [2.597],[2.53],[1.221],[2.827],[3.465],[1.65],[2.904],\n",
    "                   [1.3]], dtype = np.float32)"
   ]
  },
  {
   "cell_type": "code",
   "execution_count": 3,
   "metadata": {},
   "outputs": [
    {
     "data": {
      "image/png": "[encoded data removed]",
      "text/plain": [
       "<Figure size 432x288 with 1 Axes>"
      ]
     },
     "metadata": {
      "needs_background": "light"
     },
     "output_type": "display_data"
    }
   ],
   "source": [
    "plt.plot(x_train, y_train, 'ro', label=\"original data\")\n",
    "plt.show()"
   ]
  },
  {
   "cell_type": "code",
   "execution_count": 4,
   "metadata": {},
   "outputs": [],
   "source": [
    "import torch"
   ]
  },
  {
   "cell_type": "code",
   "execution_count": 5,
   "metadata": {},
   "outputs": [],
   "source": [
    "x_train = torch.from_numpy(x_train)\n",
    "y_train = torch.from_numpy(y_train)"
   ]
  },
  {
   "cell_type": "code",
   "execution_count": 8,
   "metadata": {},
   "outputs": [],
   "source": [
    "input_size = 1\n",
    "hidden_size =100\n",
    "output_size = 1\n",
    "learning_rate = 1e-6"
   ]
  },
  {
   "cell_type": "code",
   "execution_count": 9,
   "metadata": {},
   "outputs": [
    {
     "data": {
      "text/plain": [
       "torch.Size([1, 100])"
      ]
     },
     "execution_count": 9,
     "metadata": {},
     "output_type": "execute_result"
    }
   ],
   "source": [
    "w1 = torch.rand(input_size, hidden_size, requires_grad=True)\n",
    "w1.shape"
   ]
  },
  {
   "cell_type": "code",
   "execution_count": 10,
   "metadata": {},
   "outputs": [
    {
     "data": {
      "text/plain": [
       "torch.Size([100, 1])"
      ]
     },
     "execution_count": 10,
     "metadata": {},
     "output_type": "execute_result"
    }
   ],
   "source": [
    "w2 = torch.rand(hidden_size, output_size, requires_grad=True)\n",
    "w2.shape"
   ]
  },
  {
   "cell_type": "code",
   "execution_count": 11,
   "metadata": {},
   "outputs": [
    {
     "name": "stdout",
     "output_type": "stream",
     "text": [
      "50 2251.31640625\n",
      "100 34.8457145690918\n",
      "150 4.13388729095459\n",
      "200 3.641319513320923\n",
      "250 3.6334121227264404\n",
      "300 3.6332826614379883\n"
     ]
    }
   ],
   "source": [
    "for iter in range(1,301):\n",
    "    y_pred = x_train.mm(w1).clamp(min=0).mm(w2)\n",
    "    loss = (y_pred - y_train).pow(2).sum()\n",
    "    \n",
    "    if iter % 50 == 0:\n",
    "        print(iter, loss.item())\n",
    "        \n",
    "    loss.backward()\n",
    "    \n",
    "    with torch.no_grad():\n",
    "        w1 -= learning_rate * w1.grad\n",
    "        w2 -= learning_rate * w2.grad\n",
    "        w1.grad.zero_()\n",
    "        w2.grad.zero_()"
   ]
  },
  {
   "cell_type": "code",
   "execution_count": 12,
   "metadata": {},
   "outputs": [
    {
     "name": "stdout",
     "output_type": "stream",
     "text": [
      "tensor([[ 9.2902e-01, -1.2217e-02,  5.2535e-02,  7.3328e-01,  7.3682e-01,\n",
      "          3.4534e-01,  6.5180e-01,  5.9065e-01,  4.9595e-01,  4.0045e-01,\n",
      "          1.4046e-01,  4.5193e-01,  3.0645e-01,  1.9284e-01, -6.5539e-04,\n",
      "         -1.5443e-05,  7.3595e-01,  7.2434e-01,  1.9988e-01,  1.7139e-01,\n",
      "         -5.7774e-04,  8.2744e-01,  5.8846e-01, -6.0307e-03,  5.5332e-01,\n",
      "          1.5791e-01,  7.1450e-01,  4.4222e-01,  2.7038e-01,  8.4266e-02,\n",
      "          5.1498e-01,  4.7013e-01,  6.3092e-01,  6.6839e-01,  5.7964e-01,\n",
      "         -7.4023e-03, -1.5225e-03,  7.9285e-01, -3.7651e-03,  6.3053e-01,\n",
      "          9.6797e-01,  4.1265e-01,  2.5405e-01, -2.2029e-03,  1.8268e-01,\n",
      "          1.1121e+00,  2.4432e-01,  2.6165e-02, -2.4765e-03, -1.0508e-02,\n",
      "          1.0141e+00, -1.1215e-03, -4.7385e-03,  2.5411e-01,  5.9991e-01,\n",
      "          1.2865e-02,  4.6241e-01,  6.0641e-01,  5.1368e-01,  4.1805e-01,\n",
      "         -9.2238e-03,  3.3816e-01,  9.7504e-01,  4.6294e-01,  1.0437e-01,\n",
      "          3.5588e-01,  7.3028e-01,  4.0929e-01,  7.0195e-01,  3.9315e-01,\n",
      "          5.4098e-01, -1.5431e-03, -4.4183e-03,  5.5033e-01,  9.5529e-01,\n",
      "         -2.5863e-02,  4.7797e-01,  5.0054e-01,  1.0643e-01,  8.5819e-02,\n",
      "         -6.8591e-03,  5.3610e-01,  1.1573e-01,  3.6654e-01,  5.1962e-01,\n",
      "         -3.0378e-04,  1.4301e-01,  5.6922e-01,  5.0551e-01, -2.9246e-04,\n",
      "          3.2464e-01,  8.0444e-01,  6.8644e-01, -2.0486e-02,  8.3477e-01,\n",
      "          6.0982e-01,  1.4492e-01, -1.5793e-05,  2.4387e-01, -2.4927e-03]],\n",
      "       requires_grad=True)\n"
     ]
    }
   ],
   "source": [
    "print(w1)"
   ]
  },
  {
   "cell_type": "code",
   "execution_count": 13,
   "metadata": {},
   "outputs": [
    {
     "name": "stdout",
     "output_type": "stream",
     "text": [
      "w2 tensor([[-0.3810],\n",
      "        [ 0.9184],\n",
      "        [ 0.7504],\n",
      "        [-0.2132],\n",
      "        [-0.3363],\n",
      "        [ 0.4751],\n",
      "        [-0.1298],\n",
      "        [ 0.3481],\n",
      "        [-0.0850],\n",
      "        [ 0.3715],\n",
      "        [ 0.0819],\n",
      "        [ 0.3148],\n",
      "        [ 0.5731],\n",
      "        [ 0.2088],\n",
      "        [ 0.7459],\n",
      "        [ 0.3706],\n",
      "        [-0.2549],\n",
      "        [-0.1716],\n",
      "        [ 0.0593],\n",
      "        [-0.0050],\n",
      "        [ 0.6776],\n",
      "        [ 0.0552],\n",
      "        [ 0.4487],\n",
      "        [ 0.5730],\n",
      "        [ 0.0628],\n",
      "        [-0.0121],\n",
      "        [-0.3412],\n",
      "        [ 0.6079],\n",
      "        [-0.0430],\n",
      "        [ 0.6556],\n",
      "        [ 0.1029],\n",
      "        [ 0.5275],\n",
      "        [-0.0902],\n",
      "        [-0.3076],\n",
      "        [ 0.5088],\n",
      "        [ 0.6460],\n",
      "        [ 0.5957],\n",
      "        [ 0.0968],\n",
      "        [ 0.4265],\n",
      "        [-0.2392],\n",
      "        [-0.2518],\n",
      "        [-0.1759],\n",
      "        [ 0.5077],\n",
      "        [ 0.9875],\n",
      "        [ 0.2997],\n",
      "        [-0.5148],\n",
      "        [ 0.0684],\n",
      "        [ 0.4973],\n",
      "        [ 0.6788],\n",
      "        [ 0.8830],\n",
      "        [-0.3399],\n",
      "        [ 0.2298],\n",
      "        [ 0.4363],\n",
      "        [ 0.6161],\n",
      "        [ 0.0411],\n",
      "        [ 0.6662],\n",
      "        [-0.1003],\n",
      "        [-0.2491],\n",
      "        [ 0.3753],\n",
      "        [-0.0266],\n",
      "        [ 0.7600],\n",
      "        [ 0.2638],\n",
      "        [-0.3939],\n",
      "        [ 0.0186],\n",
      "        [ 0.1958],\n",
      "        [ 0.2109],\n",
      "        [-0.1481],\n",
      "        [-0.1584],\n",
      "        [-0.0357],\n",
      "        [ 0.5643],\n",
      "        [-0.0280],\n",
      "        [ 0.1840],\n",
      "        [ 0.7408],\n",
      "        [ 0.1334],\n",
      "        [-0.4496],\n",
      "        [ 0.9550],\n",
      "        [ 0.4414],\n",
      "        [ 0.2439],\n",
      "        [ 0.3195],\n",
      "        [-0.0408],\n",
      "        [ 0.6203],\n",
      "        [ 0.1936],\n",
      "        [ 0.6780],\n",
      "        [ 0.6361],\n",
      "        [ 0.3575],\n",
      "        [ 0.4030],\n",
      "        [ 0.4603],\n",
      "        [-0.1344],\n",
      "        [ 0.0465],\n",
      "        [ 0.7083],\n",
      "        [ 0.1232],\n",
      "        [ 0.0069],\n",
      "        [-0.0279],\n",
      "        [ 0.8108],\n",
      "        [ 0.0523],\n",
      "        [ 0.2617],\n",
      "        [ 0.5607],\n",
      "        [ 0.6944],\n",
      "        [ 0.2085],\n",
      "        [ 0.5920]], requires_grad=True)\n"
     ]
    }
   ],
   "source": [
    "print('w2',w2)"
   ]
  },
  {
   "cell_type": "code",
   "execution_count": 15,
   "metadata": {},
   "outputs": [
    {
     "data": {
      "text/plain": [
       "tensor([[ 3.3000],\n",
       "        [ 4.4000],\n",
       "        [ 5.5000],\n",
       "        [ 6.7100],\n",
       "        [ 6.9300],\n",
       "        [ 4.1680],\n",
       "        [ 9.7790],\n",
       "        [ 6.1820],\n",
       "        [ 7.5900],\n",
       "        [ 2.1670],\n",
       "        [ 7.0420],\n",
       "        [10.7910],\n",
       "        [ 5.3130],\n",
       "        [ 7.9970],\n",
       "        [ 3.1000]])"
      ]
     },
     "execution_count": 15,
     "metadata": {},
     "output_type": "execute_result"
    }
   ],
   "source": [
    "x_train_tensor = x_train\n",
    "x_train_tensor"
   ]
  },
  {
   "cell_type": "code",
   "execution_count": 16,
   "metadata": {},
   "outputs": [
    {
     "data": {
      "text/plain": [
       "tensor([[1.2117],\n",
       "        [1.6156],\n",
       "        [2.0195],\n",
       "        [2.4638],\n",
       "        [2.5446],\n",
       "        [1.5304],\n",
       "        [3.5907],\n",
       "        [2.2699],\n",
       "        [2.7869],\n",
       "        [0.7957],\n",
       "        [2.5857],\n",
       "        [3.9623],\n",
       "        [1.9508],\n",
       "        [2.9363],\n",
       "        [1.1383]], grad_fn=<MmBackward>)"
      ]
     },
     "execution_count": 16,
     "metadata": {},
     "output_type": "execute_result"
    }
   ],
   "source": [
    "predicted_in_tensor = x_train_tensor.mm(w1).clamp(min=0).mm(w2)\n",
    "predicted_in_tensor"
   ]
  },
  {
   "cell_type": "code",
   "execution_count": 17,
   "metadata": {},
   "outputs": [
    {
     "data": {
      "text/plain": [
       "array([[1.211698 ],\n",
       "       [1.615597 ],\n",
       "       [2.0194964],\n",
       "       [2.4637864],\n",
       "       [2.5445662],\n",
       "       [1.5304112],\n",
       "       [3.5906658],\n",
       "       [2.2699153],\n",
       "       [2.7869067],\n",
       "       [0.7956817],\n",
       "       [2.58569  ],\n",
       "       [3.9622536],\n",
       "       [1.9508328],\n",
       "       [2.936348 ],\n",
       "       [1.138262 ]], dtype=float32)"
      ]
     },
     "execution_count": 17,
     "metadata": {},
     "output_type": "execute_result"
    }
   ],
   "source": [
    "predicted = predicted_in_tensor.detach().numpy()\n",
    "predicted"
   ]
  },
  {
   "cell_type": "code",
   "execution_count": 19,
   "metadata": {},
   "outputs": [
    {
     "data": {
      "image/png": "[encoded data removed]",
      "text/plain": [
       "<Figure size 432x288 with 1 Axes>"
      ]
     },
     "metadata": {
      "needs_background": "light"
     },
     "output_type": "display_data"
    }
   ],
   "source": [
    "x_train = x_train.detach().numpy()\n",
    "y_train = y_train.detach().numpy()\n",
    "plt.plot(x_train, y_train, 'ro', label=\"original data\")\n",
    "plt.plot(x_train, predicted, label=\"Fitted line\")\n",
    "\n",
    "plt.legend()\n",
    "plt.show()"
   ]
  },
  {
   "cell_type": "code",
   "execution_count": null,
   "metadata": {},
   "outputs": [],
   "source": []
  }
 ],
 "metadata": {
  "kernelspec": {
   "display_name": "Python 3",
   "language": "python",
   "name": "python3"
  },
  "language_info": {
   "codemirror_mode": {
    "name": "ipython",
    "version": 3
   },
   "file_extension": ".py",
   "mimetype": "text/x-python",
   "name": "python",
   "nbconvert_exporter": "python",
   "pygments_lexer": "ipython3",
   "version": "3.7.0"
  }
 },
 "nbformat": 4,
 "nbformat_minor": 2
}
